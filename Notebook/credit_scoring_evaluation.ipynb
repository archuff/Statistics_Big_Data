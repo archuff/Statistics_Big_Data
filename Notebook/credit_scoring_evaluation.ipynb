{
 "cells": [
  {
   "cell_type": "markdown",
   "id": "8a17c57d",
   "metadata": {},
   "source": [
    "# Credit scoring classification\n",
    "Ce fichier est un exemple pour le cours de Statistiques pour Big Data du M1 GDA à Nanterre. Il a été fait pendant une heure de cours et est loin d'être efficient aussi bien dans le code que dans la manière de traiter le problème posé. L'idée est de montrer le process à suivre pour une analyse lorsque l'on possède beaucoup de variables explicatives dans un cadre prédictif. \n",
    "\n",
    "\n",
    "## 1. Setup"
   ]
  },
  {
   "cell_type": "code",
   "execution_count": 223,
   "id": "77d6a0de",
   "metadata": {},
   "outputs": [],
   "source": [
    "import pandas as pd\n",
    "import numpy as np\n",
    "from sklearn.linear_model import LogisticRegression \n",
    "from sklearn.model_selection import train_test_split\n",
    "from sklearn.metrics import confusion_matrix "
   ]
  },
  {
   "cell_type": "markdown",
   "id": "4bb03d19",
   "metadata": {},
   "source": [
    "## 2. Import data "
   ]
  },
  {
   "cell_type": "code",
   "execution_count": 213,
   "id": "57fc4a9b",
   "metadata": {},
   "outputs": [
    {
     "name": "stderr",
     "output_type": "stream",
     "text": [
      "/home/user1/anaconda3/envs/sentiment/lib/python3.7/site-packages/IPython/core/interactiveshell.py:3441: DtypeWarning: Columns (19) have mixed types.Specify dtype option on import or set low_memory=False.\n",
      "  exec(code_obj, self.user_global_ns, self.user_ns)\n"
     ]
    }
   ],
   "source": [
    "df = pd.read_csv('loan_data_2007_2014.csv')"
   ]
  },
  {
   "cell_type": "markdown",
   "id": "3504b51f",
   "metadata": {},
   "source": [
    "## 3. Exploration"
   ]
  },
  {
   "cell_type": "code",
   "execution_count": 214,
   "id": "b5a9531c",
   "metadata": {},
   "outputs": [
    {
     "name": "stdout",
     "output_type": "stream",
     "text": [
      "<class 'pandas.core.frame.DataFrame'>\n",
      "RangeIndex: 466285 entries, 0 to 466284\n",
      "Data columns (total 74 columns):\n",
      " #   Column                       Non-Null Count   Dtype  \n",
      "---  ------                       --------------   -----  \n",
      " 0   id                           466285 non-null  int64  \n",
      " 1   member_id                    466285 non-null  int64  \n",
      " 2   loan_amnt                    466285 non-null  int64  \n",
      " 3   funded_amnt                  466285 non-null  int64  \n",
      " 4   funded_amnt_inv              466285 non-null  float64\n",
      " 5   term                         466285 non-null  object \n",
      " 6   int_rate                     466285 non-null  float64\n",
      " 7   installment                  466285 non-null  float64\n",
      " 8   grade                        466285 non-null  object \n",
      " 9   sub_grade                    466285 non-null  object \n",
      " 10  emp_title                    438697 non-null  object \n",
      " 11  emp_length                   445277 non-null  object \n",
      " 12  home_ownership               466285 non-null  object \n",
      " 13  annual_inc                   466281 non-null  float64\n",
      " 14  verification_status          466285 non-null  object \n",
      " 15  issue_d                      466285 non-null  object \n",
      " 16  loan_status                  466285 non-null  object \n",
      " 17  pymnt_plan                   466285 non-null  object \n",
      " 18  url                          466285 non-null  object \n",
      " 19  desc                         125983 non-null  object \n",
      " 20  purpose                      466285 non-null  object \n",
      " 21  title                        466265 non-null  object \n",
      " 22  zip_code                     466285 non-null  object \n",
      " 23  addr_state                   466285 non-null  object \n",
      " 24  dti                          466285 non-null  float64\n",
      " 25  delinq_2yrs                  466256 non-null  float64\n",
      " 26  earliest_cr_line             466256 non-null  object \n",
      " 27  inq_last_6mths               466256 non-null  float64\n",
      " 28  mths_since_last_delinq       215934 non-null  float64\n",
      " 29  mths_since_last_record       62638 non-null   float64\n",
      " 30  open_acc                     466256 non-null  float64\n",
      " 31  pub_rec                      466256 non-null  float64\n",
      " 32  revol_bal                    466285 non-null  int64  \n",
      " 33  revol_util                   465945 non-null  float64\n",
      " 34  total_acc                    466256 non-null  float64\n",
      " 35  initial_list_status          466285 non-null  object \n",
      " 36  out_prncp                    466285 non-null  float64\n",
      " 37  out_prncp_inv                466285 non-null  float64\n",
      " 38  total_pymnt                  466285 non-null  float64\n",
      " 39  total_pymnt_inv              466285 non-null  float64\n",
      " 40  total_rec_prncp              466285 non-null  float64\n",
      " 41  total_rec_int                466285 non-null  float64\n",
      " 42  total_rec_late_fee           466285 non-null  float64\n",
      " 43  recoveries                   466285 non-null  float64\n",
      " 44  collection_recovery_fee      466285 non-null  float64\n",
      " 45  last_pymnt_d                 465909 non-null  object \n",
      " 46  last_pymnt_amnt              466285 non-null  float64\n",
      " 47  next_pymnt_d                 239071 non-null  object \n",
      " 48  last_credit_pull_d           466243 non-null  object \n",
      " 49  collections_12_mths_ex_med   466140 non-null  float64\n",
      " 50  mths_since_last_major_derog  98974 non-null   float64\n",
      " 51  policy_code                  466285 non-null  int64  \n",
      " 52  application_type             466285 non-null  object \n",
      " 53  annual_inc_joint             0 non-null       float64\n",
      " 54  dti_joint                    0 non-null       float64\n",
      " 55  verification_status_joint    0 non-null       float64\n",
      " 56  acc_now_delinq               466256 non-null  float64\n",
      " 57  tot_coll_amt                 396009 non-null  float64\n",
      " 58  tot_cur_bal                  396009 non-null  float64\n",
      " 59  open_acc_6m                  0 non-null       float64\n",
      " 60  open_il_6m                   0 non-null       float64\n",
      " 61  open_il_12m                  0 non-null       float64\n",
      " 62  open_il_24m                  0 non-null       float64\n",
      " 63  mths_since_rcnt_il           0 non-null       float64\n",
      " 64  total_bal_il                 0 non-null       float64\n",
      " 65  il_util                      0 non-null       float64\n",
      " 66  open_rv_12m                  0 non-null       float64\n",
      " 67  open_rv_24m                  0 non-null       float64\n",
      " 68  max_bal_bc                   0 non-null       float64\n",
      " 69  all_util                     0 non-null       float64\n",
      " 70  total_rev_hi_lim             396009 non-null  float64\n",
      " 71  inq_fi                       0 non-null       float64\n",
      " 72  total_cu_tl                  0 non-null       float64\n",
      " 73  inq_last_12m                 0 non-null       float64\n",
      "dtypes: float64(46), int64(6), object(22)\n",
      "memory usage: 263.3+ MB\n"
     ]
    }
   ],
   "source": [
    "df.info()"
   ]
  },
  {
   "cell_type": "markdown",
   "id": "8506a727",
   "metadata": {},
   "source": [
    "### 1. Colonnes à supprimer"
   ]
  },
  {
   "cell_type": "code",
   "execution_count": 215,
   "id": "1037c470",
   "metadata": {},
   "outputs": [],
   "source": [
    "f_to_delete = [\"id\", \"member_id\", \"zip_code\", \"url\", \"title\", \"desc\", \"emp_title\", \n",
    "               \"addr_state\", \"next_pymnt_d\", \"collection_recovery_fee\", \"application_type\"]\n",
    "df.drop(columns=f_to_delete, inplace=True)\n"
   ]
  },
  {
   "cell_type": "markdown",
   "id": "1199b52b",
   "metadata": {},
   "source": [
    "### 2. Missing values"
   ]
  },
  {
   "cell_type": "code",
   "execution_count": 216,
   "id": "c2b315c5",
   "metadata": {},
   "outputs": [],
   "source": [
    "# Missing values \n",
    "df.dropna(thresh = df.shape[0]*0.2, how = 'all', inplace = True, axis=1 )"
   ]
  },
  {
   "cell_type": "markdown",
   "id": "c4059f22",
   "metadata": {},
   "source": [
    "### 3. Variables expliquée (target)  "
   ]
  },
  {
   "cell_type": "code",
   "execution_count": 217,
   "id": "6d07c990",
   "metadata": {},
   "outputs": [
    {
     "data": {
      "text/plain": [
       "0         1\n",
       "1        -1\n",
       "2         1\n",
       "3         1\n",
       "4         1\n",
       "         ..\n",
       "466280    1\n",
       "466281   -1\n",
       "466282    1\n",
       "466283    1\n",
       "466284    1\n",
       "Name: default, Length: 466285, dtype: int64"
      ]
     },
     "execution_count": 217,
     "metadata": {},
     "output_type": "execute_result"
    }
   ],
   "source": [
    "df['loan_status'].value_counts(normalize=True)\n",
    "df['default'] = np.where(df.loc[:, 'loan_status'].isin(['Default', 'Late (16-30 days)',\n",
    "                                                       'Late (31-120 days)', \n",
    "                                                       'Charged Off',\n",
    "                                                       'Does not meet the credit policy. Status:Charged Off']),-1,1)\n",
    "df['default']"
   ]
  },
  {
   "cell_type": "markdown",
   "id": "ec3c0636",
   "metadata": {},
   "source": [
    "### 4. Train Test Split"
   ]
  },
  {
   "cell_type": "code",
   "execution_count": 218,
   "id": "8712b61a",
   "metadata": {},
   "outputs": [],
   "source": [
    "y = df['default']\n",
    "X = df.drop('default', axis=1)\n",
    "X = X.drop('loan_status', axis=1)\n",
    "X_train, X_test, y_train, y_test = train_test_split(X, y, test_size=0.25)"
   ]
  },
  {
   "cell_type": "markdown",
   "id": "57f13083",
   "metadata": {},
   "source": [
    "### 5. Date"
   ]
  },
  {
   "cell_type": "code",
   "execution_count": 219,
   "id": "b8b2eef1",
   "metadata": {},
   "outputs": [
    {
     "name": "stderr",
     "output_type": "stream",
     "text": [
      "/home/user1/anaconda3/envs/sentiment/lib/python3.7/site-packages/ipykernel_launcher.py:2: SettingWithCopyWarning: \n",
      "A value is trying to be set on a copy of a slice from a DataFrame.\n",
      "Try using .loc[row_indexer,col_indexer] = value instead\n",
      "\n",
      "See the caveats in the documentation: https://pandas.pydata.org/pandas-docs/stable/user_guide/indexing.html#returning-a-view-versus-a-copy\n",
      "  \n",
      "/home/user1/anaconda3/envs/sentiment/lib/python3.7/site-packages/ipykernel_launcher.py:5: SettingWithCopyWarning: \n",
      "A value is trying to be set on a copy of a slice from a DataFrame.\n",
      "Try using .loc[row_indexer,col_indexer] = value instead\n",
      "\n",
      "See the caveats in the documentation: https://pandas.pydata.org/pandas-docs/stable/user_guide/indexing.html#returning-a-view-versus-a-copy\n",
      "  \"\"\"\n",
      "/home/user1/anaconda3/envs/sentiment/lib/python3.7/site-packages/pandas/core/frame.py:4913: SettingWithCopyWarning: \n",
      "A value is trying to be set on a copy of a slice from a DataFrame\n",
      "\n",
      "See the caveats in the documentation: https://pandas.pydata.org/pandas-docs/stable/user_guide/indexing.html#returning-a-view-versus-a-copy\n",
      "  errors=errors,\n"
     ]
    },
    {
     "name": "stdout",
     "output_type": "stream",
     "text": [
      "<class 'pandas.core.frame.DataFrame'>\n",
      "Int64Index: 349713 entries, 76820 to 201841\n",
      "Data columns (total 44 columns):\n",
      " #   Column                       Non-Null Count   Dtype  \n",
      "---  ------                       --------------   -----  \n",
      " 0   loan_amnt                    349713 non-null  int64  \n",
      " 1   funded_amnt                  349713 non-null  int64  \n",
      " 2   funded_amnt_inv              349713 non-null  float64\n",
      " 3   term                         349713 non-null  object \n",
      " 4   int_rate                     349713 non-null  float64\n",
      " 5   installment                  349713 non-null  float64\n",
      " 6   grade                        349713 non-null  object \n",
      " 7   sub_grade                    349713 non-null  object \n",
      " 8   emp_length                   333961 non-null  object \n",
      " 9   home_ownership               349713 non-null  object \n",
      " 10  annual_inc                   349709 non-null  float64\n",
      " 11  verification_status          349713 non-null  object \n",
      " 12  pymnt_plan                   349713 non-null  object \n",
      " 13  purpose                      349713 non-null  object \n",
      " 14  dti                          349713 non-null  float64\n",
      " 15  delinq_2yrs                  349690 non-null  float64\n",
      " 16  inq_last_6mths               349690 non-null  float64\n",
      " 17  mths_since_last_delinq       161851 non-null  float64\n",
      " 18  open_acc                     349690 non-null  float64\n",
      " 19  pub_rec                      349690 non-null  float64\n",
      " 20  revol_bal                    349713 non-null  int64  \n",
      " 21  revol_util                   349456 non-null  float64\n",
      " 22  total_acc                    349690 non-null  float64\n",
      " 23  initial_list_status          349713 non-null  object \n",
      " 24  out_prncp                    349713 non-null  float64\n",
      " 25  out_prncp_inv                349713 non-null  float64\n",
      " 26  total_pymnt                  349713 non-null  float64\n",
      " 27  total_pymnt_inv              349713 non-null  float64\n",
      " 28  total_rec_prncp              349713 non-null  float64\n",
      " 29  total_rec_int                349713 non-null  float64\n",
      " 30  total_rec_late_fee           349713 non-null  float64\n",
      " 31  recoveries                   349713 non-null  float64\n",
      " 32  last_pymnt_amnt              349713 non-null  float64\n",
      " 33  collections_12_mths_ex_med   349610 non-null  float64\n",
      " 34  mths_since_last_major_derog  74106 non-null   float64\n",
      " 35  policy_code                  349713 non-null  int64  \n",
      " 36  acc_now_delinq               349690 non-null  float64\n",
      " 37  tot_coll_amt                 297170 non-null  float64\n",
      " 38  tot_cur_bal                  297170 non-null  float64\n",
      " 39  total_rev_hi_lim             297170 non-null  float64\n",
      " 40  depuis_last_pymnt_d          349417 non-null  float64\n",
      " 41  depuis_last_credit_pull_d    349681 non-null  float64\n",
      " 42  depuis_issue_d               349713 non-null  float64\n",
      " 43  depuis_earliest_cr_line      349690 non-null  float64\n",
      "dtypes: float64(31), int64(4), object(9)\n",
      "memory usage: 120.1+ MB\n"
     ]
    }
   ],
   "source": [
    "def date_col(df, column): \n",
    "    df[column] = pd.to_datetime(df[column], format = '%b-%y')\n",
    "    # Creation variable qui dit depuis combien de temps le client n'a pas payé \n",
    "    date_ref = pd.to_datetime('2018-12-01')\n",
    "    df['depuis_'+ column] = pd.to_numeric((date_ref-df[column])/ np.timedelta64(1, 'M'))\n",
    "    df.drop(columns = [column], inplace = True)\n",
    "    \n",
    "date_col(X_train, 'last_pymnt_d')\n",
    "date_col(X_train, 'last_credit_pull_d')\n",
    "date_col(X_train, 'issue_d')\n",
    "date_col(X_train, 'earliest_cr_line')\n",
    "X_train.info()\n",
    "\n",
    "X_train.drop('term', axis=1, inplace=True)"
   ]
  },
  {
   "cell_type": "markdown",
   "id": "42e44412",
   "metadata": {},
   "source": [
    "### 6. Dummies "
   ]
  },
  {
   "cell_type": "code",
   "execution_count": 220,
   "id": "d817838a",
   "metadata": {},
   "outputs": [],
   "source": [
    "X_train_cat = X_train.select_dtypes(include = 'object').copy()\n",
    "\n",
    "def dummies(df, columns):\n",
    "    df_d = []\n",
    "    for col in columns:\n",
    "        df_d.append(pd.get_dummies(df[col], prefix = col))\n",
    "    df_d = pd.concat(df_d, axis=1)\n",
    "    df = pd.concat([df, df_d], axis=1)\n",
    "    df.drop(columns, axis=1, inplace=True)\n",
    "    return df\n",
    "\n",
    "X_train = dummies(X_train, ['grade', 'sub_grade', 'emp_length', 'home_ownership',\n",
    "                            'verification_status', 'pymnt_plan', 'purpose', \n",
    "                            'initial_list_status'])\n"
   ]
  },
  {
   "cell_type": "code",
   "execution_count": 228,
   "id": "3fb2e812",
   "metadata": {},
   "outputs": [
    {
     "name": "stderr",
     "output_type": "stream",
     "text": [
      "/home/user1/anaconda3/envs/sentiment/lib/python3.7/site-packages/sklearn/linear_model/_logistic.py:1319: UserWarning: l1_ratio parameter is only used when penalty is 'elasticnet'. Got (penalty=l1)\n",
      "  \"(penalty={})\".format(self.penalty))\n",
      "/home/user1/anaconda3/envs/sentiment/lib/python3.7/site-packages/sklearn/linear_model/_sag.py:329: ConvergenceWarning: The max_iter was reached which means the coef_ did not converge\n",
      "  \"the coef_ did not converge\", ConvergenceWarning)\n"
     ]
    },
    {
     "data": {
      "text/plain": [
       "LogisticRegression(class_weight='balanced', l1_ratio=0.9, penalty='l1',\n",
       "                   solver='saga')"
      ]
     },
     "execution_count": 228,
     "metadata": {},
     "output_type": "execute_result"
    }
   ],
   "source": [
    "reg = LogisticRegression(penalty='l1',fit_intercept=True,  \n",
    "                          class_weight='balanced', solver='saga', l1_ratio=0.9)\n",
    "X_train.fillna(value=0, axis = 1, inplace=True)\n",
    "reg.fit(X_train, y_train)"
   ]
  },
  {
   "cell_type": "code",
   "execution_count": 191,
   "id": "fb183a7c",
   "metadata": {},
   "outputs": [
    {
     "name": "stdout",
     "output_type": "stream",
     "text": [
      "<class 'pandas.core.frame.DataFrame'>\n",
      "Int64Index: 349713 entries, 249233 to 197014\n",
      "Data columns (total 43 columns):\n",
      " #   Column                       Non-Null Count   Dtype  \n",
      "---  ------                       --------------   -----  \n",
      " 0   loan_amnt                    349713 non-null  int64  \n",
      " 1   funded_amnt                  349713 non-null  int64  \n",
      " 2   funded_amnt_inv              349713 non-null  float64\n",
      " 3   int_rate                     349713 non-null  float64\n",
      " 4   installment                  349713 non-null  float64\n",
      " 5   grade                        349713 non-null  object \n",
      " 6   sub_grade                    349713 non-null  object \n",
      " 7   emp_length                   334004 non-null  object \n",
      " 8   home_ownership               349713 non-null  object \n",
      " 9   annual_inc                   349710 non-null  float64\n",
      " 10  verification_status          349713 non-null  object \n",
      " 11  pymnt_plan                   349713 non-null  object \n",
      " 12  purpose                      349713 non-null  object \n",
      " 13  dti                          349713 non-null  float64\n",
      " 14  delinq_2yrs                  349689 non-null  float64\n",
      " 15  inq_last_6mths               349689 non-null  float64\n",
      " 16  mths_since_last_delinq       162070 non-null  float64\n",
      " 17  open_acc                     349689 non-null  float64\n",
      " 18  pub_rec                      349689 non-null  float64\n",
      " 19  revol_bal                    349713 non-null  int64  \n",
      " 20  revol_util                   349449 non-null  float64\n",
      " 21  total_acc                    349689 non-null  float64\n",
      " 22  initial_list_status          349713 non-null  object \n",
      " 23  out_prncp                    349713 non-null  float64\n",
      " 24  out_prncp_inv                349713 non-null  float64\n",
      " 25  total_pymnt                  349713 non-null  float64\n",
      " 26  total_pymnt_inv              349713 non-null  float64\n",
      " 27  total_rec_prncp              349713 non-null  float64\n",
      " 28  total_rec_int                349713 non-null  float64\n",
      " 29  total_rec_late_fee           349713 non-null  float64\n",
      " 30  recoveries                   349713 non-null  float64\n",
      " 31  last_pymnt_amnt              349713 non-null  float64\n",
      " 32  collections_12_mths_ex_med   349600 non-null  float64\n",
      " 33  mths_since_last_major_derog  74358 non-null   float64\n",
      " 34  policy_code                  349713 non-null  int64  \n",
      " 35  acc_now_delinq               349689 non-null  float64\n",
      " 36  tot_coll_amt                 296930 non-null  float64\n",
      " 37  tot_cur_bal                  296930 non-null  float64\n",
      " 38  total_rev_hi_lim             296930 non-null  float64\n",
      " 39  depuis_last_pymnt_d          349427 non-null  float64\n",
      " 40  depuis_last_credit_pull_d    349682 non-null  float64\n",
      " 41  depuis_issue_d               349713 non-null  float64\n",
      " 42  depuis_earliest_cr_line      349689 non-null  float64\n",
      "dtypes: float64(31), int64(4), object(8)\n",
      "memory usage: 117.4+ MB\n"
     ]
    },
    {
     "name": "stderr",
     "output_type": "stream",
     "text": [
      "/home/user1/anaconda3/envs/sentiment/lib/python3.7/site-packages/pandas/core/frame.py:4913: SettingWithCopyWarning: \n",
      "A value is trying to be set on a copy of a slice from a DataFrame\n",
      "\n",
      "See the caveats in the documentation: https://pandas.pydata.org/pandas-docs/stable/user_guide/indexing.html#returning-a-view-versus-a-copy\n",
      "  errors=errors,\n"
     ]
    }
   ],
   "source": []
  },
  {
   "cell_type": "code",
   "execution_count": 230,
   "id": "e96c6e60",
   "metadata": {},
   "outputs": [
    {
     "data": {
      "text/plain": [
       "array([[ 30909,   8163],\n",
       "       [  1060, 309581]])"
      ]
     },
     "execution_count": 230,
     "metadata": {},
     "output_type": "execute_result"
    }
   ],
   "source": [
    "confusion_matrix(y_train, reg.predict(X_train))"
   ]
  },
  {
   "cell_type": "code",
   "execution_count": 231,
   "id": "205c41b2",
   "metadata": {},
   "outputs": [
    {
     "name": "stdout",
     "output_type": "stream",
     "text": [
      "                       Name         coeff\n",
      "0                 loan_amnt -1.084440e-04\n",
      "1               funded_amnt -1.088647e-04\n",
      "2           funded_amnt_inv -1.045357e-04\n",
      "3                  int_rate -2.663149e-07\n",
      "4               installment -4.275392e-06\n",
      "..                      ...           ...\n",
      "110  purpose_small_business -1.177540e-09\n",
      "111        purpose_vacation -1.290269e-10\n",
      "112         purpose_wedding -7.191110e-11\n",
      "113   initial_list_status_f -1.048835e-08\n",
      "114   initial_list_status_w  5.179170e-09\n",
      "\n",
      "[115 rows x 2 columns]\n"
     ]
    }
   ],
   "source": [
    "table = pd.DataFrame(columns=['Name'], data = X_train.columns.values)\n",
    "table['coeff'] = np.transpose(reg.coef_)\n",
    "print(table)"
   ]
  },
  {
   "cell_type": "code",
   "execution_count": null,
   "id": "9e116c54",
   "metadata": {},
   "outputs": [],
   "source": []
  }
 ],
 "metadata": {
  "kernelspec": {
   "display_name": "Python 3 (ipykernel)",
   "language": "python",
   "name": "python3"
  },
  "language_info": {
   "codemirror_mode": {
    "name": "ipython",
    "version": 3
   },
   "file_extension": ".py",
   "mimetype": "text/x-python",
   "name": "python",
   "nbconvert_exporter": "python",
   "pygments_lexer": "ipython3",
   "version": "3.9.7"
  }
 },
 "nbformat": 4,
 "nbformat_minor": 5
}
