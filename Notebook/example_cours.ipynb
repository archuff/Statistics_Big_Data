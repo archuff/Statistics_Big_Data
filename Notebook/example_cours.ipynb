{
 "cells": [
  {
   "cell_type": "markdown",
   "metadata": {},
   "source": [
    "## Première exemple du cours de big data\n",
    "\n",
    "On va essayer de classer des chiffres (des 2 et des 3)"
   ]
  },
  {
   "cell_type": "code",
   "execution_count": 5,
   "metadata": {},
   "outputs": [],
   "source": [
    "import pandas as pd\n",
    "import numpy as np\n",
    "from sklearn.linear_model import LinearRegression\n",
    "\n",
    "df_train_2 = pd.read_csv('../data/train.2', sep=',', header = None)\n",
    "df_train_3 = pd.read_csv('../data/train.3', sep=',', header = None)\n",
    "\n"
   ]
  },
  {
   "cell_type": "code",
   "execution_count": 7,
   "metadata": {},
   "outputs": [
    {
     "name": "stdout",
     "output_type": "stream",
     "text": [
      "[0.09925048]\n",
      "[0.21837749]\n"
     ]
    }
   ],
   "source": [
    "df_train = df_train_2.append(df_train_3)\n",
    "\n",
    "y_train_2 = np.ones(np.shape(df_train_2)[0])\n",
    "y_train_3 = -np.ones(np.shape(df_train_3[0]))\n",
    "\n",
    "y_train = np.concatenate((y_train_2, y_train_3))\n",
    "\n",
    "reg = LinearRegression(fit_intercept=False).fit(df_train, y_train)\n",
    "resid_train = y_train - reg.predict(df_train)\n",
    "\n",
    "resid_train_2 = resid_train**2\n",
    "error_train = np.sum(resid_train_2)/np.shape(y_train)\n",
    "\n",
    "print(error_train)\n",
    "\n",
    "df_temp = pd.read_csv('../data/zip.test', sep=' ', header=None, index_col=0)\n",
    "df_test = df_temp.loc[[2,3]]\n",
    "# print(df_test)\n",
    "#df_temp = pd.read_csv('zip.test', sep=' ', header = None)\n",
    "#df_test = pd.DataFrame()\n",
    "#for index, row in df_temp.iterrows():\n",
    "#    if row[0] == 2 or row[0] == 3:\n",
    "#        df_test = df_test.append(row)\n",
    "df_test.reset_index(drop=True, inplace = True)\n",
    "\n",
    "y_test_2 = np.ones(np.shape(df_temp.loc[2])[0])\n",
    "y_test_3 = -np.ones(np.shape(df_temp.loc[3])[0])\n",
    "\n",
    "y_test = np.concatenate((y_test_2, y_test_3))\n",
    "\n",
    "resid_test = y_test - reg.predict(df_test)\n",
    "error_test = np.sum(resid_test**2)/np.shape(y_test)\n",
    "print(error_test)"
   ]
  },
  {
   "cell_type": "code",
   "execution_count": null,
   "metadata": {},
   "outputs": [],
   "source": []
  },
  {
   "cell_type": "code",
   "execution_count": null,
   "metadata": {},
   "outputs": [],
   "source": []
  },
  {
   "cell_type": "code",
   "execution_count": null,
   "metadata": {},
   "outputs": [],
   "source": []
  },
  {
   "cell_type": "code",
   "execution_count": null,
   "metadata": {},
   "outputs": [],
   "source": []
  }
 ],
 "metadata": {
  "kernelspec": {
   "display_name": "Python 3 (ipykernel)",
   "language": "python",
   "name": "python3"
  },
  "language_info": {
   "codemirror_mode": {
    "name": "ipython",
    "version": 3
   },
   "file_extension": ".py",
   "mimetype": "text/x-python",
   "name": "python",
   "nbconvert_exporter": "python",
   "pygments_lexer": "ipython3",
   "version": "3.9.7"
  }
 },
 "nbformat": 4,
 "nbformat_minor": 4
}
