{
 "cells": [
  {
   "cell_type": "code",
   "execution_count": 6,
   "metadata": {},
   "outputs": [
    {
     "name": "stdout",
     "output_type": "stream",
     "text": [
      "Total articles: 3077\n"
     ]
    }
   ],
   "source": [
    "document_list = []\n",
    "with open('2008_articles' , 'r') as fi: \n",
    "    for line in fi.readlines():\n",
    "        text = line.strip()\n",
    "        document_list.append(text)\n",
    "print(\"Total articles:\", len(document_list))"
   ]
  },
  {
   "cell_type": "code",
   "execution_count": 16,
   "metadata": {},
   "outputs": [
    {
     "name": "stdout",
     "output_type": "stream",
     "text": [
      "['fond', 'monétair', 'intern', 'fmi', 'a', 'confirmé', 'mardi', '29', 'janvier', 'ralentiss', 'actuel', 'croissanc', 'produit', 'intérieur', 'brut', 'mondial', 'reviendrait', '2008', '4', '1', 'contr', '4', '9', '2007', 'san', 'surpris', 'coup', 'frein', 'vient', 'etat', 'uni', 'puisqu', 'croissanc', 'devrait', 'élever', '1', '5', '2008', 'contr', '2', '2', '2007', 'zone', 'euro', 'autant', 'touché', 'ralentira', '2', '6', '1', '6', 'quant', 'japon', 'freinera', 'aussi', '1', '9', '1', '5', 'jusqu', 'présent', 'marché', 'émergent', 'tenu', 'bon', 'estim', 'fond', 'rapport', 'stabilité', 'financièr', 'mond', 'juger', 'récent', 'repli', 'boursier', 'certain', 'marché', 'risquent', 'être', 'mesur', 'échapper', 'effet', 'contagion', 'except', 'africain', 'ralentiss', 'demand', 'occidental', 'renchériss', 'condit', 'prêt', 'commencé', 'affect', 'pay', 'émergent', 'dont', 'taux', 'croissanc', 'passera', '7', '8', '6', '9', 'ainsi', 'europ', 'central', 'oriental', 'reviendra', '5', '5', '4', '6', 'asi', '9', '6', '8', '6', 'suit', 'chine', 'décélérera', '11', '4', '10', 'moyen', 'orient', '6', '5', '9', 'seul', 'afriqu', 'continuera', 'lancé', 'verra', 'croissanc', 'accélérer', '6', '7', 'global', 'balanc', 'risqu', 'croissanc', 'mondial', 'orienté', 'baiss', 'premier', 'chef', 'craint', 'turbul', 'marché', 'financi', 'freinent', 'encor', 'plu', 'demand', 'intérieur', 'pay', 'avancé', 'cela', 'répercut', 'davantag', 'pay', 'émergent', 'développ', 'prévient', 'fmi', 'fond', 'corrig', 'relatif', 'pessimism', 'notant', 'malgré', 'recul', 'croissanc', 'leur', 'export', 'pay', 'émergent', 'développ', 'restent', 'instant', 'voie', 'expans', 'vigoureus', 'chine', 'ind', 'tête', 'soulign', 'pay', 'bénéficient', 'grand', 'vitalité', 'demand', 'intérieur', 'politiqu', 'macroéconomiqu', 'plu', 'discipliné', 'ca', 'exportateur', 'matièr', 'premièr', 'monté', 'cour', 'produit', 'énergétiqu', 'alimentair', 'aprè', 'constat', 'remèd', 'fmi', 'applaudit', 'mesur', 'prise', 'banqu', 'central', 'gouvern', 'américain', 'contrer', 'effet', 'dépressif', 'crise', 'immobilièr', 'financièr', 'parti', 'etat', 'uni', 'banquecentraleeuropéenn', 'reçoit', 'satisfecit', 'refu', 'baisser', 'taux', 'fait', 'risqu', 'inflat', 'tribun', 'publié', 'financi', 'time', 'mercredi', '30', 'janvier', 'dominiqu', 'strauss', 'kahn', 'directeur', 'général', 'confirm', 'propo', 'a', 'tenu', 'lor', 'forum', 'davo', 'suiss', 'préconis', 'plan', 'relanc', 'fiscaux', 'bien', 'sûr', 'temporair', 'plu', 'baiss', 'taux', 'simon', 'johnson', 'chef', 'économist', 'fond', 'a', 'déclaré', 'mardi', 'plan', 'relanc', 'arrêté', 'georg', 'w', 'bush', 'démocrat', 'pouvait', 'apport', 'équival', '0', '2', '0', '3', 'point', 'croissanc', 'premièr', 'lign', 'défens', 'demeur', 'politiqu', 'monétair', 'a', 'approuvé', 'politiqu', 'réduction', 'taux', 'conduit', 'réserv', 'fédérale', 'déclarant', 'agi', 'éviter', 'perturb', 'financièr', 'contamin', 'activité', 'économiqu', 'comment', 'rétablir', 'confianc', 'marché', 'financi', 'mobilis', 'capitaux', 'réduisant', 'dividend', 'favoris', 'commun', 'rapid', 'clair', 'systématiqu', 'répond', 'fmi', 'profit', 'suggérer', 'foi', 'plu', 'agenc', 'notat', 'amélior', 'exempl', 'leur', 'méthodolog', 'fourniss', 'note', 'différencié', 'plu', 'inform', 'sensibilité', 'leur', 'note', 'hypothès', 'sou', 'jacent', 'bodi']\n"
     ]
    }
   ],
   "source": [
    "from nltk.tokenize import RegexpTokenizer\n",
    "from nltk.corpus import stopwords ## Les mots qui ne servent à rien\n",
    "from nltk.stem.porter import PorterStemmer\n",
    "\n",
    "fr_stop = set(stopwords.words('french'))\n",
    "tokenizer = RegexpTokenizer(r'\\w+')\n",
    "p_stemmer = PorterStemmer()\n",
    "text = []\n",
    "for i in document_list:\n",
    "    raw = i.lower()\n",
    "    tokens = tokenizer.tokenize(raw)\n",
    "    stop_token = [i for i in tokens if not i in fr_stop] ## On garde que les tokens qui ne sont pas dans fr_stop\n",
    "    stem_token = [p_stemmer.stem(i) for i in stop_token] ## On tronque tous les tokens dans la liste stop_token\n",
    "    text.append(stem_token)"
   ]
  },
  {
   "cell_type": "code",
   "execution_count": 21,
   "metadata": {},
   "outputs": [
    {
     "name": "stderr",
     "output_type": "stream",
     "text": [
      "IOPub data rate exceeded.\n",
      "The notebook server will temporarily stop sending output\n",
      "to the client in order to avoid crashing it.\n",
      "To change this limit, set the config variable\n",
      "`--NotebookApp.iopub_data_rate_limit`.\n",
      "\n",
      "Current values:\n",
      "NotebookApp.iopub_data_rate_limit=1000000.0 (bytes/sec)\n",
      "NotebookApp.rate_limit_window=3.0 (secs)\n",
      "\n"
     ]
    }
   ],
   "source": [
    "from gensim import corpora \n",
    "\n",
    "dictionary = corpora.Dictionary(text)\n",
    "term_doc_matrix = [dictionary.doc2bow(doc) for doc in text]\n",
    "\n",
    "print(term_doc_matrix)"
   ]
  },
  {
   "cell_type": "code",
   "execution_count": 25,
   "metadata": {},
   "outputs": [
    {
     "name": "stdout",
     "output_type": "stream",
     "text": [
      "[(0, '0.473*\"a\" + 0.278*\"plu\" + 0.201*\"banqu\" + 0.170*\"crise\" + 0.163*\"euro\" + 0.132*\"taux\" + 0.126*\"marché\" + 0.115*\"tout\" + 0.112*\"bce\" + 0.111*\"cett\"'), (1, '0.269*\"euro\" + 0.241*\"taux\" + -0.205*\"crise\" + 0.190*\"inflat\" + 0.185*\"1\" + 0.176*\"bce\" + 0.172*\"prix\" + 0.164*\"2\" + 0.163*\"dollar\" + 0.154*\"hauss\"'), (2, '-0.499*\"banqu\" + 0.293*\"a\" + -0.229*\"crédit\" + -0.189*\"marché\" + 0.178*\"européen\" + 0.167*\"europ\" + 0.160*\"européenn\" + 0.153*\"sarkozi\" + 0.147*\"politiqu\" + -0.146*\"crise\"'), (3, '0.526*\"a\" + 0.284*\"banqu\" + -0.193*\"plu\" + -0.177*\"prix\" + -0.171*\"inflat\" + -0.137*\"croissanc\" + -0.129*\"politiqu\" + 0.118*\"milliard\" + 0.102*\"président\" + -0.101*\"hauss\"'), (4, '0.587*\"euro\" + -0.342*\"a\" + 0.206*\"banqu\" + 0.183*\"monnai\" + 0.178*\"européenn\" + 0.177*\"européen\" + 0.167*\"zone\" + 0.158*\"milliard\" + 0.127*\"dollar\" + 0.122*\"pay\"'), (5, '-0.388*\"bce\" + -0.315*\"taux\" + -0.264*\"inflat\" + -0.262*\"banqu\" + 0.261*\"plu\" + -0.163*\"prix\" + 0.156*\"dollar\" + 0.146*\"euro\" + -0.133*\"politiqu\" + 0.127*\"1\"'), (6, '-0.294*\"dollar\" + -0.255*\"a\" + -0.247*\"euro\" + -0.199*\"monnai\" + 0.172*\"2\" + 0.151*\"3\" + 0.146*\"5\" + -0.138*\"crise\" + 0.136*\"européen\" + 0.129*\"banqu\"'), (7, '0.288*\"américain\" + -0.280*\"euro\" + 0.219*\"europ\" + 0.219*\"uni\" + 0.191*\"etat\" + 0.175*\"crise\" + -0.174*\"a\" + 0.160*\"dollar\" + -0.159*\"banqu\" + -0.139*\"entrepris\"'), (8, '-0.288*\"etat\" + 0.282*\"taux\" + 0.274*\"état\" + -0.232*\"prix\" + -0.230*\"pay\" + -0.165*\"plu\" + 0.146*\"marché\" + -0.144*\"inflat\" + 0.140*\"bce\" + 0.139*\"baiss\"'), (9, '-0.440*\"plu\" + 0.355*\"crise\" + 0.248*\"croissanc\" + 0.167*\"économi\" + -0.140*\"europ\" + 0.137*\"économiqu\" + 0.136*\"financièr\" + 0.133*\"pay\" + -0.124*\"tout\" + 0.124*\"2\"')]\n"
     ]
    }
   ],
   "source": [
    "from gensim.models import LsiModel\n",
    "lsamodel = LsiModel(term_doc_matrix, num_topics=10, id2word=dictionary)\n",
    "print(lsamodel.print_topics(num_topics=10, num_words=10))\n"
   ]
  },
  {
   "cell_type": "code",
   "execution_count": 29,
   "metadata": {},
   "outputs": [
    {
     "name": "stdout",
     "output_type": "stream",
     "text": [
      "[(0, '0.013*\"3\" + 0.007*\"191\" + 0.007*\"454\" + 0.007*\"348\" + 0.006*\"559\" + 0.006*\"252\" + 0.005*\"377\" + 0.005*\"120\" + 0.005*\"35\" + 0.004*\"380\"'), (1, '0.017*\"3\" + 0.013*\"410\" + 0.009*\"252\" + 0.007*\"79\" + 0.006*\"823\" + 0.005*\"454\" + 0.005*\"191\" + 0.005*\"838\" + 0.004*\"862\" + 0.004*\"728\"'), (2, '0.013*\"3\" + 0.010*\"252\" + 0.007*\"454\" + 0.005*\"139\" + 0.005*\"559\" + 0.005*\"166\" + 0.005*\"605\" + 0.005*\"348\" + 0.005*\"317\" + 0.004*\"255\"'), (3, '0.021*\"3\" + 0.009*\"79\" + 0.008*\"252\" + 0.007*\"838\" + 0.007*\"120\" + 0.007*\"255\" + 0.006*\"728\" + 0.006*\"348\" + 0.006*\"317\" + 0.005*\"1191\"'), (4, '0.014*\"3\" + 0.010*\"252\" + 0.010*\"410\" + 0.006*\"79\" + 0.005*\"348\" + 0.005*\"454\" + 0.004*\"603\" + 0.004*\"375\" + 0.004*\"191\" + 0.004*\"255\"'), (5, '0.028*\"3\" + 0.011*\"559\" + 0.009*\"454\" + 0.008*\"35\" + 0.008*\"252\" + 0.007*\"263\" + 0.006*\"735\" + 0.006*\"166\" + 0.006*\"410\" + 0.006*\"377\"'), (6, '0.012*\"252\" + 0.012*\"3\" + 0.008*\"559\" + 0.006*\"79\" + 0.006*\"605\" + 0.006*\"410\" + 0.006*\"243\" + 0.006*\"370\" + 0.005*\"454\" + 0.005*\"35\"'), (7, '0.018*\"3\" + 0.013*\"252\" + 0.009*\"829\" + 0.008*\"454\" + 0.008*\"410\" + 0.007*\"191\" + 0.006*\"402\" + 0.006*\"79\" + 0.005*\"559\" + 0.005*\"377\"'), (8, '0.013*\"3\" + 0.013*\"454\" + 0.013*\"252\" + 0.008*\"410\" + 0.006*\"255\" + 0.006*\"120\" + 0.005*\"35\" + 0.005*\"605\" + 0.005*\"728\" + 0.004*\"191\"'), (9, '0.021*\"3\" + 0.011*\"252\" + 0.009*\"410\" + 0.008*\"79\" + 0.007*\"35\" + 0.007*\"454\" + 0.006*\"191\" + 0.006*\"559\" + 0.005*\"348\" + 0.004*\"605\"')]\n"
     ]
    }
   ],
   "source": [
    "from gensim.models import LdaModel\n",
    "lda = LdaModel(term_doc_matrix, num_topics=10)\n",
    "print(lda.print_topics(num_topics=10, num_words=10))"
   ]
  },
  {
   "cell_type": "code",
   "execution_count": null,
   "metadata": {},
   "outputs": [],
   "source": []
  }
 ],
 "metadata": {
  "kernelspec": {
   "display_name": "Python 3",
   "language": "python",
   "name": "python3"
  },
  "language_info": {
   "codemirror_mode": {
    "name": "ipython",
    "version": 3
   },
   "file_extension": ".py",
   "mimetype": "text/x-python",
   "name": "python",
   "nbconvert_exporter": "python",
   "pygments_lexer": "ipython3",
   "version": "3.7.9"
  }
 },
 "nbformat": 4,
 "nbformat_minor": 4
}
